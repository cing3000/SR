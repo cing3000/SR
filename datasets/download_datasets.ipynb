{
 "cells": [
  {
   "cell_type": "markdown",
   "metadata": {},
   "source": [
    "# Datasets Downloader\n",
    "\n",
    "Here I listed a few datasets we probabaly going to use, some for training and some for testing.\n",
    "\n",
    "## ImageNet\n",
    "Don't know why, but ImageNet is down. Find another way to download its datasets from this academictorrents.com\n",
    "\n",
    "They are all huge, so download as needed.\n",
    "\n",
    "LSVRC 2014 Training Set (Object Detection) (50.12GB): http://academictorrents.com/details/fbc7a9f9a10be134a1738ba947efa1814ed3ce9b\n",
    "\n",
    "LSVRC 2013 Validation Set (Object Detection) (2.71GB): http://academictorrents.com/details/f47c081054f6301d908b5840bed507b3d981e669\n",
    "\n",
    "LSVRC 2012 Training Set (Bounding Boxes (20.86MB):\n",
    "http://academictorrents.com/details/28202f4f8dde5c9b26d406f5522f8763713e605b\n",
    "\n",
    "LSVRC 2012 Validation Set (Bounding Boxes) (2.22MB): http://academictorrents.com/details/dfa9ab2528ce76b907047aa8cf8fc792852facb9\n",
    "\n",
    "LSVRC 2012 Training Set (Object Detection) (147.90GB): http://academictorrents.com/details/a306397ccf9c2ead27155983c254227c0fd938e2\n",
    "\n",
    "LSVRC 2012 Validation Set (Object Detection) (6.74GB): http://academictorrents.com/details/5d6d0df7ed81efd49ca99ea4737e0ae5e3a5f2e5"
   ]
  },
  {
   "cell_type": "code",
   "execution_count": 1,
   "metadata": {},
   "outputs": [],
   "source": [
    "import os\n",
    "import sys\n",
    "from six.moves.urllib.request import urlretrieve\n",
    "\n",
    "url = ''\n",
    "last_percent_reported = None\n",
    "data_root = ''\n",
    "\n",
    "def download_progress_hook(count, blockSize, totalSize):\n",
    "  \n",
    "  global last_percent_reported\n",
    "  percent = int(count * blockSize * 100 / totalSize)\n",
    "\n",
    "  if last_percent_reported != percent:\n",
    "    if percent % 5 == 0:\n",
    "      sys.stdout.write(\"%s%%\" % percent)\n",
    "      sys.stdout.flush()\n",
    "    else:\n",
    "      sys.stdout.write(\".\")\n",
    "      sys.stdout.flush()\n",
    "      \n",
    "    last_percent_reported = percent\n",
    "\n",
    "def download(filename, force=False):\n",
    "    # Download file if not present\n",
    "    dest_filename = os.path.join(data_root, filename)\n",
    "    if force or not os.path.exists(dest_filename):\n",
    "        print('Attempting to download:', filename) \n",
    "        filename, _ = urlretrieve(url + filename, dest_filename, reporthook=download_progress_hook)\n",
    "        print('\\nDownload Complete!')\n",
    "    return dest_filename\n",
    "\n"
   ]
  },
  {
   "cell_type": "markdown",
   "metadata": {},
   "source": [
    "## DIV2K\n",
    "https://data.vision.ee.ethz.ch/cvl/DIV2K/"
   ]
  },
  {
   "cell_type": "code",
   "execution_count": null,
   "metadata": {},
   "outputs": [
    {
     "name": "stdout",
     "output_type": "stream",
     "text": [
      "Attempting to download: DIV2K_train_HR.zip\n",
      "0%....5%....10%....15%"
     ]
    }
   ],
   "source": [
    "url = 'http://data.vision.ee.ethz.ch/cvl/DIV2K/'\n",
    "data_root = 'DIV2K/'\n",
    "\n",
    "download('DIV2K_train_LR_bicubic_X2.zip')  # Train Data Track 1 bicubic downscaling x2 (LR images)\n",
    "download('DIV2K_train_LR_unknown_X2.zip')  # Train Data Track 2 unknown downgrading operators x2 (LR images)\n",
    "download('DIV2K_valid_LR_bicubic_X2.zip')  # Validation Data Track 1 bicubic downscaling x2 (LR images)\n",
    "download('DIV2K_valid_LR_unknown_X2.zip')  # Validation Data Track 2 unknown downgrading operators x2 (LR images)\n",
    "download('DIV2K_train_LR_bicubic_X3.zip')  # Train Data Track 1 bicubic downscaling x3 (LR images)\n",
    "download('DIV2K_train_LR_unknown_X3.zip')  # Train Data Track 2 unknown downgrading operators x3 (LR images)\n",
    "download('DIV2K_valid_LR_bicubic_X3.zip')  # Validation Data Track 1 bicubic downscaling x3 (LR images)\n",
    "download('DIV2K_valid_LR_unknown_X3.zip')  # Validation Data Track 2 unknown downgrading operators x3 (LR images)\n",
    "download('DIV2K_train_LR_bicubic_X4.zip')  # Train Data Track 1 bicubic downscaling x4 (LR images)\n",
    "download('DIV2K_train_LR_unknown_X4.zip')  # Train Data Track 2 unknown downgrading operators x4 (LR images)\n",
    "download('DIV2K_valid_LR_bicubic_X4.zip')  # Validation Data Track 1 bicubic downscaling x4 (LR images)\n",
    "download('DIV2K_valid_LR_unknown_X4.zip')  # Validation Data Track 2 unknown downgrading operators x4 (LR images)\n",
    "#download('DIV2K_train_HR.zip')             # Train Data (HR images), 3.25GB\n",
    "#download('DIV2K_valid_HR.zip')             # Validation Data (HR images)"
   ]
  },
  {
   "cell_type": "markdown",
   "metadata": {},
   "source": [
    "## BSD Datasets\n",
    "\n",
    "BSD300: https://www2.eecs.berkeley.edu/Research/Projects/CS/vision/bsds/<br/>\n",
    "BSD500: https://www2.eecs.berkeley.edu/Research/Projects/CS/vision/grouping/resources.html"
   ]
  },
  {
   "cell_type": "code",
   "execution_count": null,
   "metadata": {},
   "outputs": [],
   "source": [
    "url = 'https://www2.eecs.berkeley.edu/Research/Projects/CS/vision/bsds/'\n",
    "data_root = 'BSD300/'\n",
    "download('BSDS300-images.tgz')\n",
    "\n",
    "url = 'http://www.eecs.berkeley.edu/Research/Projects/CS/vision/grouping/BSR/'\n",
    "data_root = 'BSD500/'\n",
    "download('BSR_bsds500.tgz')"
   ]
  }
 ],
 "metadata": {
  "kernelspec": {
   "display_name": "Python 3",
   "language": "python",
   "name": "python3"
  },
  "language_info": {
   "codemirror_mode": {
    "name": "ipython",
    "version": 3
   },
   "file_extension": ".py",
   "mimetype": "text/x-python",
   "name": "python",
   "nbconvert_exporter": "python",
   "pygments_lexer": "ipython3",
   "version": "3.6.3"
  }
 },
 "nbformat": 4,
 "nbformat_minor": 2
}
