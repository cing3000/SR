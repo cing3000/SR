{
 "cells": [
  {
   "cell_type": "markdown",
   "metadata": {},
   "source": [
    "# Super Resolution Project"
   ]
  },
  {
   "cell_type": "code",
   "execution_count": null,
   "metadata": {},
   "outputs": [],
   "source": [
    "import tensorflow as tf"
   ]
  },
  {
   "cell_type": "markdown",
   "metadata": {},
   "source": [
    "## SRCNNN\n",
    "This is a very simple CNN for super resolution.\n",
    "\n",
    "http://mmlab.ie.cuhk.edu.hk/projects/SRCNN.html"
   ]
  },
  {
   "cell_type": "code",
   "execution_count": null,
   "metadata": {},
   "outputs": [],
   "source": [
    "from models import SRCNN\n",
    "\n",
    "with tf.Session() as sess:\n",
    "    srcnn = SRCNN(sess, checkpoint_dir='checkpoints/srcnn/', sample_dir='samples/srcnn')\n",
    "    \n",
    "    srcnn.preprocess(dataset_dir='datasets/DIV2K/DIV2K_train_HR')\n",
    "    X, Y = srcnn.load_data()\n",
    "    \n",
    "    srcnn.train(X, Y)\n"
   ]
  }
 ],
 "metadata": {
  "kernelspec": {
   "display_name": "Python 3",
   "language": "python",
   "name": "python3"
  },
  "language_info": {
   "codemirror_mode": {
    "name": "ipython",
    "version": 3
   },
   "file_extension": ".py",
   "mimetype": "text/x-python",
   "name": "python",
   "nbconvert_exporter": "python",
   "pygments_lexer": "ipython3",
   "version": "3.6.3"
  }
 },
 "nbformat": 4,
 "nbformat_minor": 2
}
